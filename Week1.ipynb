#!/usr/bin/env python3
# -*- coding: utf-8 -*-
"""
Created on Sun Jan 31 20:32:03 2021

@author: s418003
"""

import numpy as np


a = np.arange(0,21)
a

b = np.arange(0, 21, 2)
b

c= np.arange(0, 21, 3)
c
